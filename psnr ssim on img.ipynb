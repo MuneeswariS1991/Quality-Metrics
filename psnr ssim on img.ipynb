{
 "cells": [
  {
   "cell_type": "code",
   "execution_count": 1,
   "metadata": {},
   "outputs": [
    {
     "name": "stdout",
     "output_type": "stream",
     "text": [
      "No module named 'pyopencl'. cl12 version by Christoph Gohlke for windows is recommended: https://www.lfd.uci.edu/~gohlke/pythonlibs/#pyopencl\n"
     ]
    }
   ],
   "source": [
    "from math import log10, sqrt \n",
    "import cv2 \n",
    "import numpy as np \n",
    "from SSIM_PIL import compare_ssim\n",
    "from PIL import Image, ImageFont, ImageDraw\n",
    "\n",
    "def PSNR(original, compressed): \n",
    "\tmse = np.mean((original - compressed) ** 2) \n",
    "\tif(mse == 0): # MSE is zero means no noise is present in the signal . \n",
    "\t\t\t\t# Therefore PSNR have no importance. \n",
    "\t\treturn 100\n",
    "\tmax_pixel = 255.0\n",
    "\tpsnr = 20 * log10(max_pixel / sqrt(mse)) \n",
    "\treturn psnr \n",
    "\n",
    "def main(): \n",
    "\toriginal = cv2.imread(r\"C:/Users/MUNEESWARI S/data1/frame26.jpg\") \n",
    "\tcompressed = cv2.imread(r\"C:/Users/MUNEESWARI S/data1/frame30.jpg\") \n",
    "\tvalue = PSNR(original, compressed) \n",
    "\timage1 = Image.open(r\"C:/Users/MUNEESWARI S/data1/frame26.jpg\")\n",
    "\timage2 = Image.open(r\"C:/Users/MUNEESWARI S/data1/frame30.jpg\")\n",
    "\tvalue1 = compare_ssim(image1, image2)\n",
    "\tdraw = ImageDraw.Draw(image2) \n",
    "\tfont = ImageFont.truetype(r'C:/Users/MUNEESWARI S/data1/arial.ttf', 20) \n",
    "\ttext1 = f\"PSNR value is {value} dB\" \n",
    "\ttext2 = f\"SSIM value is {value1} dB\"\n",
    "\tdraw.text((5, 5), text1, font = font, align =\"left\") \n",
    "\tdraw.text((5, 30), text2, font = font, align =\"left\") \n",
    "\timage2.show()\n",
    "\n",
    "if __name__ == \"__main__\": \n",
    "\tmain() \n"
   ]
  },
  {
   "cell_type": "code",
   "execution_count": null,
   "metadata": {},
   "outputs": [],
   "source": []
  }
 ],
 "metadata": {
  "kernelspec": {
   "display_name": "Python 3",
   "language": "python",
   "name": "python3"
  },
  "language_info": {
   "codemirror_mode": {
    "name": "ipython",
    "version": 3
   },
   "file_extension": ".py",
   "mimetype": "text/x-python",
   "name": "python",
   "nbconvert_exporter": "python",
   "pygments_lexer": "ipython3",
   "version": "3.7.6"
  }
 },
 "nbformat": 4,
 "nbformat_minor": 4
}
